{
 "cells": [
  {
   "cell_type": "markdown",
   "source": [
    "# Test hypotéz\n",
    "## Konanie testov dvoch zadaných hypotéz nad dátami týkajúcich sa nehôd v ČR"
   ],
   "metadata": {
    "collapsed": false
   },
   "id": "5e4bd98931958167"
  },
  {
   "cell_type": "code",
   "outputs": [],
   "source": [
    "import pandas as pd\n",
    "from scipy.stats import chi2_contingency, ttest_ind"
   ],
   "metadata": {
    "collapsed": false,
    "ExecuteTime": {
     "end_time": "2024-01-13T10:17:41.969342600Z",
     "start_time": "2024-01-13T10:17:41.912495700Z"
    }
   },
   "id": "341a3db16919be40",
   "execution_count": 16
  },
  {
   "cell_type": "code",
   "outputs": [
    {
     "data": {
      "text/plain": "           p1  p36  p37         p2a  weekday(p2a)   p2b  p6  p7  p8  p9  ...  \\\n0  2100160001    4  NaN  2016-01-01             5    55   1   1   0   2  ...   \n1  2100160002    4  NaN  2016-01-01             5   130   1   3   0   2  ...   \n2  2100160003    5  NaN  2016-01-01             5   100   1   2   0   2  ...   \n3  2100160004    6  NaN  2016-01-01             5   120   9   0   0   2  ...   \n4  2100160005    6  NaN  2016-01-01             5  2560   2   0   0   2  ...   \n\n          n    o                       p       q         r         s  \\\n0  711403.0  NaN  Souhlasnýsesměremúseku  Pomalý  554782.0  451622.0   \n1       NaN  NaN                     NaN     NaN       NaN       NaN   \n2       NaN  NaN                     NaN     NaN       NaN       NaN   \n3       NaN  NaN                     NaN     NaN       NaN       NaN   \n4       NaN  NaN                     NaN     NaN       NaN       NaN   \n\n                    t  p5a  region       date  \n0  GN_V0.1UIR-ADR_410    1     PHA 2016-01-01  \n1                 NaN    1     PHA 2016-01-01  \n2                 NaN    1     PHA 2016-01-01  \n3                 NaN    1     PHA 2016-01-01  \n4                 NaN    1     PHA 2016-01-01  \n\n[5 rows x 66 columns]",
      "text/html": "<div>\n<style scoped>\n    .dataframe tbody tr th:only-of-type {\n        vertical-align: middle;\n    }\n\n    .dataframe tbody tr th {\n        vertical-align: top;\n    }\n\n    .dataframe thead th {\n        text-align: right;\n    }\n</style>\n<table border=\"1\" class=\"dataframe\">\n  <thead>\n    <tr style=\"text-align: right;\">\n      <th></th>\n      <th>p1</th>\n      <th>p36</th>\n      <th>p37</th>\n      <th>p2a</th>\n      <th>weekday(p2a)</th>\n      <th>p2b</th>\n      <th>p6</th>\n      <th>p7</th>\n      <th>p8</th>\n      <th>p9</th>\n      <th>...</th>\n      <th>n</th>\n      <th>o</th>\n      <th>p</th>\n      <th>q</th>\n      <th>r</th>\n      <th>s</th>\n      <th>t</th>\n      <th>p5a</th>\n      <th>region</th>\n      <th>date</th>\n    </tr>\n  </thead>\n  <tbody>\n    <tr>\n      <th>0</th>\n      <td>2100160001</td>\n      <td>4</td>\n      <td>NaN</td>\n      <td>2016-01-01</td>\n      <td>5</td>\n      <td>55</td>\n      <td>1</td>\n      <td>1</td>\n      <td>0</td>\n      <td>2</td>\n      <td>...</td>\n      <td>711403.0</td>\n      <td>NaN</td>\n      <td>Souhlasnýsesměremúseku</td>\n      <td>Pomalý</td>\n      <td>554782.0</td>\n      <td>451622.0</td>\n      <td>GN_V0.1UIR-ADR_410</td>\n      <td>1</td>\n      <td>PHA</td>\n      <td>2016-01-01</td>\n    </tr>\n    <tr>\n      <th>1</th>\n      <td>2100160002</td>\n      <td>4</td>\n      <td>NaN</td>\n      <td>2016-01-01</td>\n      <td>5</td>\n      <td>130</td>\n      <td>1</td>\n      <td>3</td>\n      <td>0</td>\n      <td>2</td>\n      <td>...</td>\n      <td>NaN</td>\n      <td>NaN</td>\n      <td>NaN</td>\n      <td>NaN</td>\n      <td>NaN</td>\n      <td>NaN</td>\n      <td>NaN</td>\n      <td>1</td>\n      <td>PHA</td>\n      <td>2016-01-01</td>\n    </tr>\n    <tr>\n      <th>2</th>\n      <td>2100160003</td>\n      <td>5</td>\n      <td>NaN</td>\n      <td>2016-01-01</td>\n      <td>5</td>\n      <td>100</td>\n      <td>1</td>\n      <td>2</td>\n      <td>0</td>\n      <td>2</td>\n      <td>...</td>\n      <td>NaN</td>\n      <td>NaN</td>\n      <td>NaN</td>\n      <td>NaN</td>\n      <td>NaN</td>\n      <td>NaN</td>\n      <td>NaN</td>\n      <td>1</td>\n      <td>PHA</td>\n      <td>2016-01-01</td>\n    </tr>\n    <tr>\n      <th>3</th>\n      <td>2100160004</td>\n      <td>6</td>\n      <td>NaN</td>\n      <td>2016-01-01</td>\n      <td>5</td>\n      <td>120</td>\n      <td>9</td>\n      <td>0</td>\n      <td>0</td>\n      <td>2</td>\n      <td>...</td>\n      <td>NaN</td>\n      <td>NaN</td>\n      <td>NaN</td>\n      <td>NaN</td>\n      <td>NaN</td>\n      <td>NaN</td>\n      <td>NaN</td>\n      <td>1</td>\n      <td>PHA</td>\n      <td>2016-01-01</td>\n    </tr>\n    <tr>\n      <th>4</th>\n      <td>2100160005</td>\n      <td>6</td>\n      <td>NaN</td>\n      <td>2016-01-01</td>\n      <td>5</td>\n      <td>2560</td>\n      <td>2</td>\n      <td>0</td>\n      <td>0</td>\n      <td>2</td>\n      <td>...</td>\n      <td>NaN</td>\n      <td>NaN</td>\n      <td>NaN</td>\n      <td>NaN</td>\n      <td>NaN</td>\n      <td>NaN</td>\n      <td>NaN</td>\n      <td>1</td>\n      <td>PHA</td>\n      <td>2016-01-01</td>\n    </tr>\n  </tbody>\n</table>\n<p>5 rows × 66 columns</p>\n</div>"
     },
     "execution_count": 17,
     "metadata": {},
     "output_type": "execute_result"
    }
   ],
   "source": [
    "data = pd.read_pickle(\"accidents.pkl.gz\")\n",
    "data.head()"
   ],
   "metadata": {
    "collapsed": false,
    "ExecuteTime": {
     "end_time": "2024-01-13T10:17:42.854973200Z",
     "start_time": "2024-01-13T10:17:41.973344300Z"
    }
   },
   "id": "af275facad1f993",
   "execution_count": 17
  },
  {
   "cell_type": "markdown",
   "source": [
    "## Hypotéza 1 - test s istotou 95%\n",
    "### Na cestách prvej triedy sa pri nehodách umieralo s rovnakou pravdepodobnosťou ako na cestách tretej triedy\n",
    "\n",
    "Hypotézu otestujem testom $\\chi^2$\n",
    "\n",
    "Na test budem potrebovať z dát vybrať stĺpce, ktoré vyznačujú:\n",
    "* Druh komunikácie = dátová položka 'p36', \n",
    "  * kde cesty prvej triedy sú označené hodnotou '1' \n",
    "  * a cesty tretej triedy sú označené hodnotou '3'\n",
    "* Počet mŕtvych osôb = dátová položka 'p13a'"
   ],
   "metadata": {
    "collapsed": false
   },
   "id": "a38a5abb8b2496bf"
  },
  {
   "cell_type": "code",
   "outputs": [],
   "source": [
    "h1 = data.copy()\n",
    "\n",
    "h1 = h1[['p13a', 'p36']]\n",
    "\n",
    "# Limit the dataset to only relevant types of roads\n",
    "h1 = h1[h1['p36'].isin([1, 3])].reset_index(drop=True)"
   ],
   "metadata": {
    "collapsed": false,
    "ExecuteTime": {
     "end_time": "2024-01-13T10:17:43.148535900Z",
     "start_time": "2024-01-13T10:17:42.847973400Z"
    }
   },
   "id": "6539ef74da5b92f4",
   "execution_count": 18
  },
  {
   "cell_type": "markdown",
   "source": [
    "Ďalej, pre určenie binárnych dát pre test hypotézy $\\chi^2$ vytvorím ďalšie dva stĺpce:\n",
    "* Fatálna nehoda - Rozdeľuje nehody na fatálne (niekto pri nehode umrel) a nefatálne\n",
    "* Trieda cesty - Rozdeľuje nehody podľa toho, či sa stali na ceste 1. triedy, alebo na ceste 3. triedy"
   ],
   "metadata": {
    "collapsed": false
   },
   "id": "22c9d83d517c6d4f"
  },
  {
   "cell_type": "code",
   "outputs": [
    {
     "data": {
      "text/plain": "   p13a  p36 fatalna nehoda trieda cesty\n0     0    1            NIE           1.\n1     0    1            NIE           1.\n2     0    1            NIE           1.\n3     0    1            NIE           1.\n4     0    1            NIE           1.",
      "text/html": "<div>\n<style scoped>\n    .dataframe tbody tr th:only-of-type {\n        vertical-align: middle;\n    }\n\n    .dataframe tbody tr th {\n        vertical-align: top;\n    }\n\n    .dataframe thead th {\n        text-align: right;\n    }\n</style>\n<table border=\"1\" class=\"dataframe\">\n  <thead>\n    <tr style=\"text-align: right;\">\n      <th></th>\n      <th>p13a</th>\n      <th>p36</th>\n      <th>fatalna nehoda</th>\n      <th>trieda cesty</th>\n    </tr>\n  </thead>\n  <tbody>\n    <tr>\n      <th>0</th>\n      <td>0</td>\n      <td>1</td>\n      <td>NIE</td>\n      <td>1.</td>\n    </tr>\n    <tr>\n      <th>1</th>\n      <td>0</td>\n      <td>1</td>\n      <td>NIE</td>\n      <td>1.</td>\n    </tr>\n    <tr>\n      <th>2</th>\n      <td>0</td>\n      <td>1</td>\n      <td>NIE</td>\n      <td>1.</td>\n    </tr>\n    <tr>\n      <th>3</th>\n      <td>0</td>\n      <td>1</td>\n      <td>NIE</td>\n      <td>1.</td>\n    </tr>\n    <tr>\n      <th>4</th>\n      <td>0</td>\n      <td>1</td>\n      <td>NIE</td>\n      <td>1.</td>\n    </tr>\n  </tbody>\n</table>\n</div>"
     },
     "execution_count": 19,
     "metadata": {},
     "output_type": "execute_result"
    }
   ],
   "source": [
    "h1['fatalna nehoda'] = h1['p13a'] > 0\n",
    "h1['fatalna nehoda'] = h1['fatalna nehoda'].map({False: \"NIE\", True: \"ANO\"})\n",
    "\n",
    "h1.loc[h1['p36'] == 1, 'trieda cesty'] = \"1.\"\n",
    "h1.loc[h1['p36'] == 3, 'trieda cesty'] = \"3.\"        \n",
    " \n",
    "h1.head()"
   ],
   "metadata": {
    "collapsed": false,
    "ExecuteTime": {
     "end_time": "2024-01-13T10:17:43.169739200Z",
     "start_time": "2024-01-13T10:17:43.140511900Z"
    }
   },
   "id": "6f6f064e34da6d62",
   "execution_count": 19
  },
  {
   "cell_type": "markdown",
   "source": [
    "Transformovanie dát do vhodného formátu pre prevedenie testu hypotézy $\\chi^2$"
   ],
   "metadata": {
    "collapsed": false
   },
   "id": "d43537d1a90936a1"
  },
  {
   "cell_type": "code",
   "outputs": [
    {
     "data": {
      "text/plain": "trieda cesty       1.     3.\nfatalna nehoda              \nANO              1104    536\nNIE             96618  91882",
      "text/html": "<div>\n<style scoped>\n    .dataframe tbody tr th:only-of-type {\n        vertical-align: middle;\n    }\n\n    .dataframe tbody tr th {\n        vertical-align: top;\n    }\n\n    .dataframe thead th {\n        text-align: right;\n    }\n</style>\n<table border=\"1\" class=\"dataframe\">\n  <thead>\n    <tr style=\"text-align: right;\">\n      <th>trieda cesty</th>\n      <th>1.</th>\n      <th>3.</th>\n    </tr>\n    <tr>\n      <th>fatalna nehoda</th>\n      <th></th>\n      <th></th>\n    </tr>\n  </thead>\n  <tbody>\n    <tr>\n      <th>ANO</th>\n      <td>1104</td>\n      <td>536</td>\n    </tr>\n    <tr>\n      <th>NIE</th>\n      <td>96618</td>\n      <td>91882</td>\n    </tr>\n  </tbody>\n</table>\n</div>"
     },
     "execution_count": 20,
     "metadata": {},
     "output_type": "execute_result"
    }
   ],
   "source": [
    "ct = pd.crosstab(h1['fatalna nehoda'], h1['trieda cesty'])\n",
    "ct"
   ],
   "metadata": {
    "collapsed": false,
    "ExecuteTime": {
     "end_time": "2024-01-13T10:17:43.241589200Z",
     "start_time": "2024-01-13T10:17:43.163745400Z"
    }
   },
   "id": "7d1f5f7088415caa",
   "execution_count": 20
  },
  {
   "cell_type": "markdown",
   "source": [
    "Prevedenie testu hypotézy $\\chi^2$"
   ],
   "metadata": {
    "collapsed": false
   },
   "id": "6ad8d9061907b99a"
  },
  {
   "cell_type": "code",
   "outputs": [
    {
     "name": "stdout",
     "output_type": "stream",
     "text": [
      "2.9583564622976284e-38\n",
      "Hypotéza zamietnutá: True\n"
     ]
    },
    {
     "data": {
      "text/plain": "array([[  842.87409277,   797.12590723],\n       [96879.12590723, 91620.87409277]])"
     },
     "metadata": {},
     "output_type": "display_data"
    }
   ],
   "source": [
    "statistic, pvalue, dof, expected = chi2_contingency(ct)\n",
    "\n",
    "print(pvalue)\n",
    "print(f\"Hypotéza zamietnutá: {pvalue < 0.05}\")\n",
    "display(expected)"
   ],
   "metadata": {
    "collapsed": false,
    "ExecuteTime": {
     "end_time": "2024-01-13T10:17:43.267588800Z",
     "start_time": "2024-01-13T10:17:43.203543600Z"
    }
   },
   "id": "551e1351b3f2e8c2",
   "execution_count": 21
  },
  {
   "cell_type": "markdown",
   "source": [
    "Mimo samotného výsledku testu hypotézy ešte zisťujem aj skutočnosť, \n",
    "či viedli nehody na cestách 1. triedy častejšie alebo menej často k fatálnym nehodám oproti cestám 3. triedy"
   ],
   "metadata": {
    "collapsed": false
   },
   "id": "3fae727c5e073a60"
  },
  {
   "cell_type": "code",
   "outputs": [
    {
     "name": "stdout",
     "output_type": "stream",
     "text": [
      "Očakávaná pravdepodobnosť úmrtia pri zrážke na ceste 1. triedy: 51.394761754496685\n",
      "Očakávaná pravdepodobnosť úmrtia pri zrážke na ceste 3. triedy: 48.605238245503315\n",
      "\n",
      "Nehody na cestách 1. triedy vedú k fatálnym nehodám pravdepodobnejšie: True\n"
     ]
    }
   ],
   "source": [
    "expected_fatalities_1stclass = expected[0][0] # Trieda cesty == '1.' && Fatalna nehoda == 'ANO' \n",
    "expected_fatalities_3rdclass = expected[0][1] # Trieda cesty == '3.' && Fatalna nehoda == 'ANO'  \n",
    "expected_fatalities_sum = expected_fatalities_1stclass + expected_fatalities_3rdclass\n",
    "\n",
    "fatality_rate_1stclass = expected_fatalities_1stclass / expected_fatalities_sum  \n",
    "fatality_rate_3rdclass = expected_fatalities_3rdclass / expected_fatalities_sum\n",
    "\n",
    "print(f\"Očakávaná pravdepodobnosť úmrtia pri zrážke na ceste 1. triedy: {fatality_rate_1stclass * 100}\")\n",
    "print(f\"Očakávaná pravdepodobnosť úmrtia pri zrážke na ceste 3. triedy: {fatality_rate_3rdclass * 100}\")\n",
    "print()\n",
    "print(f\"Nehody na cestách 1. triedy vedú k fatálnym nehodám pravdepodobnejšie: \"\n",
    "        f\"{fatality_rate_1stclass > fatality_rate_3rdclass}\")"
   ],
   "metadata": {
    "collapsed": false,
    "ExecuteTime": {
     "end_time": "2024-01-13T10:17:43.268597200Z",
     "start_time": "2024-01-13T10:17:43.211317500Z"
    }
   },
   "id": "a590e3786a362504",
   "execution_count": 22
  },
  {
   "cell_type": "markdown",
   "source": [
    "## Hypotéza 1 - Záver:\n",
    "---------------------- \n",
    "\n",
    "$H_0$ zamietam a prímam alternatívnu hypotézu:    \n",
    "#### Na cestách prvej triedy sa pri nehodách NEUMIERALO s rovnakou pravdepodobnosťou ako na cestách tretej triedy\n",
    "#### Zistil som taktiež, že nehody na cestách 1. triedy vedú k fatálnym nehodám pravdepodobnejšie."
   ],
   "metadata": {
    "collapsed": false
   },
   "id": "e4e3bda6965d105e"
  },
  {
   "cell_type": "markdown",
   "source": [
    "## Hypotéza 2 - test s istotou 95%\n",
    "### Pri nehodách vozidiel značky ŠKODA je škoda na vozidle nižšia ako pri nehodách vozidiel AUDI"
   ],
   "metadata": {
    "collapsed": false
   },
   "id": "caff72c3c79962a6"
  },
  {
   "cell_type": "markdown",
   "source": [
    "Na test Hypotézy 2 budem potrebovať z dát vybrať stĺpce, ktoré vyznačujú:\n",
    "* Značka vozidla = dátová položka 'p45a', \n",
    "  * kde vozidlá značky ŠKODA sú označené hodnotou '39' \n",
    "  * a vozidlá značky AUDI sú označené hodnotou '2'\n",
    "* Škoda na vozidle = dátová položka 'p53'"
   ],
   "metadata": {
    "collapsed": false
   },
   "id": "f965007034af2544"
  },
  {
   "cell_type": "code",
   "outputs": [
    {
     "data": {
      "text/plain": "   p45a   p14\n0   2.0  4800\n1  39.0   200\n2  39.0   500\n3  39.0    50\n4  39.0  1250",
      "text/html": "<div>\n<style scoped>\n    .dataframe tbody tr th:only-of-type {\n        vertical-align: middle;\n    }\n\n    .dataframe tbody tr th {\n        vertical-align: top;\n    }\n\n    .dataframe thead th {\n        text-align: right;\n    }\n</style>\n<table border=\"1\" class=\"dataframe\">\n  <thead>\n    <tr style=\"text-align: right;\">\n      <th></th>\n      <th>p45a</th>\n      <th>p14</th>\n    </tr>\n  </thead>\n  <tbody>\n    <tr>\n      <th>0</th>\n      <td>2.0</td>\n      <td>4800</td>\n    </tr>\n    <tr>\n      <th>1</th>\n      <td>39.0</td>\n      <td>200</td>\n    </tr>\n    <tr>\n      <th>2</th>\n      <td>39.0</td>\n      <td>500</td>\n    </tr>\n    <tr>\n      <th>3</th>\n      <td>39.0</td>\n      <td>50</td>\n    </tr>\n    <tr>\n      <th>4</th>\n      <td>39.0</td>\n      <td>1250</td>\n    </tr>\n  </tbody>\n</table>\n</div>"
     },
     "execution_count": 23,
     "metadata": {},
     "output_type": "execute_result"
    }
   ],
   "source": [
    "h2 = data.copy()\n",
    "\n",
    "h2 = h2[['p45a', 'p14']] \n",
    "# Limit the dataset to only relevant car brands\n",
    "h2 = h2[h2['p45a'].isin([2, 39])].reset_index(drop=True)\n",
    "\n",
    "h2.head()"
   ],
   "metadata": {
    "collapsed": false,
    "ExecuteTime": {
     "end_time": "2024-01-13T10:17:43.566135800Z",
     "start_time": "2024-01-13T10:17:43.216589500Z"
    }
   },
   "id": "1004d42e6136af25",
   "execution_count": 23
  },
  {
   "cell_type": "markdown",
   "source": [
    "Ďalej, z vytvoreného datasetu vezmem separátne škody na vozidlách podľa ich značky.\n",
    "Už priemery škôd z dát pre AUDI a ŠKODA napovedajú, že vozidlá ŠKODA v priemere utrpia nižšie škody."
   ],
   "metadata": {
    "collapsed": false
   },
   "id": "82a5885b23e214d6"
  },
  {
   "cell_type": "code",
   "outputs": [
    {
     "name": "stdout",
     "output_type": "stream",
     "text": [
      "924.7309454981315 683.0897848470563\n",
      "1397.043006289386 2150.260899179228\n"
     ]
    }
   ],
   "source": [
    "damages_audi = h2[h2['p45a'] == 2]['p14']\n",
    "damages_skoda = h2[h2['p45a'] == 39]['p14']\n",
    "\n",
    "print(damages_audi.mean(), damages_skoda.mean())\n",
    "print(damages_audi.std(), damages_skoda.std())"
   ],
   "metadata": {
    "collapsed": false,
    "ExecuteTime": {
     "end_time": "2024-01-13T10:17:43.568136300Z",
     "start_time": "2024-01-13T10:17:43.556368600Z"
    }
   },
   "id": "442c78c80cb1e277",
   "execution_count": 24
  },
  {
   "cell_type": "markdown",
   "source": [
    "Pre otestovanie hypotézy 2. použijem nezávislý párový t-test (implementácia modulom scipy.stat -> ttest_ind(a, b))"
   ],
   "metadata": {
    "collapsed": false
   },
   "id": "6394b12e2a615996"
  },
  {
   "cell_type": "code",
   "outputs": [
    {
     "name": "stdout",
     "output_type": "stream",
     "text": [
      "TtestResult(statistic=-18.576738138973823, pvalue=1.9879833820234112e-76, df=21331.839351629238)\n"
     ]
    }
   ],
   "source": [
    "result = ttest_ind(damages_skoda, damages_audi, equal_var=False) \n",
    "print(result)"
   ],
   "metadata": {
    "collapsed": false,
    "ExecuteTime": {
     "end_time": "2024-01-13T10:19:31.232363Z",
     "start_time": "2024-01-13T10:19:31.222365300Z"
    }
   },
   "id": "b428bc5366132431",
   "execution_count": 30
  },
  {
   "cell_type": "markdown",
   "source": [
    "A na koniec skontrolujem či je $H_0$ zamietnutá (kontrola štatistickej významnosti):"
   ],
   "metadata": {
    "collapsed": false
   },
   "id": "98e472c2fe23e465"
  },
  {
   "cell_type": "code",
   "outputs": [
    {
     "name": "stdout",
     "output_type": "stream",
     "text": [
      "Hypotéza zamietnutá: False\n"
     ]
    }
   ],
   "source": [
    "print(f\"Hypotéza zamietnutá: {result.pvalue < 0.05 and result.statistic > 0}\")"
   ],
   "metadata": {
    "collapsed": false,
    "ExecuteTime": {
     "end_time": "2024-01-13T10:17:43.584490700Z",
     "start_time": "2024-01-13T10:17:43.575181600Z"
    }
   },
   "id": "b9de5a89fc86f9e3",
   "execution_count": 26
  },
  {
   "cell_type": "markdown",
   "source": [
    "## Hypotéza 2 - Záver: \n",
    "----------------------\n",
    "### $H_0$ nezamietam:    \n",
    "#### Pri nehodách vozidiel značky ŠKODA je škoda na vozidle NIŽŠIA ako pri nehodách vozidiel AUDI"
   ],
   "metadata": {
    "collapsed": false
   },
   "id": "bf1526a242bdbdbb"
  }
 ],
 "metadata": {
  "kernelspec": {
   "display_name": "Python 3",
   "language": "python",
   "name": "python3"
  },
  "language_info": {
   "codemirror_mode": {
    "name": "ipython",
    "version": 2
   },
   "file_extension": ".py",
   "mimetype": "text/x-python",
   "name": "python",
   "nbconvert_exporter": "python",
   "pygments_lexer": "ipython2",
   "version": "2.7.6"
  }
 },
 "nbformat": 4,
 "nbformat_minor": 5
}
